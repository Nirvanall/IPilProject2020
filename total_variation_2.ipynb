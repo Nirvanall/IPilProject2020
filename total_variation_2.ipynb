{
  "nbformat": 4,
  "nbformat_minor": 0,
  "metadata": {
    "colab": {
      "name": "total variation-2.ipynb",
      "provenance": [],
      "authorship_tag": "ABX9TyNpGX/49W5Gk18zZj8SIi/P",
      "include_colab_link": true
    },
    "kernelspec": {
      "name": "python3",
      "display_name": "Python 3"
    }
  },
  "cells": [
    {
      "cell_type": "markdown",
      "metadata": {
        "id": "view-in-github",
        "colab_type": "text"
      },
      "source": [
        "<a href=\"https://colab.research.google.com/github/Nirvanall/IPilProject2020/blob/master/total_variation_2.ipynb\" target=\"_parent\"><img src=\"https://colab.research.google.com/assets/colab-badge.svg\" alt=\"Open In Colab\"/></a>"
      ]
    },
    {
      "cell_type": "code",
      "metadata": {
        "id": "ZpHdBJpWrhjN",
        "colab_type": "code",
        "colab": {}
      },
      "source": [
        "import torch\n",
        "import kornia\n",
        "# import cv2\n",
        "import numpy as np\n",
        "\n",
        "import matplotlib.pyplot as plt\n",
        "\n",
        "# read the image with OpenCV\n",
        "# img: np.ndarray = cv2.imread('./data/doraemon.png')\n",
        "# img = cv2.cvtColor(img, cv2.COLOR_BGR2RGB) / 255.0\n",
        "# img = img + np.random.normal(loc=0.0, scale=0.1, size=img.shape)\n",
        "# img = np.clip(img, 0.0, 1.0)\n"
      ],
      "execution_count": 0,
      "outputs": []
    },
    {
      "cell_type": "code",
      "metadata": {
        "id": "FUctK7qar0Nl",
        "colab_type": "code",
        "colab": {}
      },
      "source": [
        "img = np.random.normal(loc=0.5, scale=0.1, size=(1000,1000,3))\n",
        "img[20:50,20:50,:] = img[20:50,20:50,:] + 1\n",
        "img = np.clip(img, 0.0, 1.0)\n",
        "\n",
        "# convert to torch tensor\n",
        "noisy_image: torch.tensor = kornia.image_to_tensor(img).squeeze()  # CxHxW"
      ],
      "execution_count": 0,
      "outputs": []
    },
    {
      "cell_type": "code",
      "metadata": {
        "id": "zX3H45i2r27U",
        "colab_type": "code",
        "colab": {}
      },
      "source": [
        "# define the total variation denoising network\n",
        "class TVDenoise(torch.nn.Module):\n",
        "    def __init__(self, noisy_image):\n",
        "        super(TVDenoise, self).__init__()\n",
        "        self.l2_term = torch.nn.MSELoss(reduction='mean')\n",
        "        self.regularization_term = kornia.losses.TotalVariation()\n",
        "        # create the variable which will be optimized to produce the noise free image\n",
        "        self.clean_image = torch.nn.Parameter(data=noisy_image.clone(), requires_grad=True)\n",
        "        self.noisy_image = noisy_image\n",
        "\n",
        "    def forward(self):\n",
        "        return self.l2_term(self.clean_image, self.noisy_image) + 0.0001 * self.regularization_term(self.clean_image)\n",
        "\n",
        "    def get_clean_image(self):\n",
        "        return self.clean_image\n"
      ],
      "execution_count": 0,
      "outputs": []
    },
    {
      "cell_type": "code",
      "metadata": {
        "id": "dvu0EB2Ur50o",
        "colab_type": "code",
        "colab": {}
      },
      "source": [
        "tv_denoiser = TVDenoise(noisy_image)\n",
        "\n",
        "# define the optimizer to optimize the 1 parameter of tv_denoiser\n",
        "optimizer = torch.optim.SGD(tv_denoiser.parameters(), lr=0.1, momentum=0.9)"
      ],
      "execution_count": 0,
      "outputs": []
    },
    {
      "cell_type": "code",
      "metadata": {
        "id": "Oz9KADbtr9v4",
        "colab_type": "code",
        "colab": {}
      },
      "source": [
        "# run the optimization loop\n",
        "num_iters = 500\n",
        "for i in range(num_iters):\n",
        "    optimizer.zero_grad()\n",
        "    loss = tv_denoiser()\n",
        "    if i % 25 == 0:\n",
        "        print(\"Loss in iteration {} of {}: {:.3f}\".format(i, num_iters, loss.item()))\n",
        "    loss.backward()\n",
        "    optimizer.step()"
      ],
      "execution_count": 0,
      "outputs": []
    },
    {
      "cell_type": "code",
      "metadata": {
        "id": "qoFutPgFsCpr",
        "colab_type": "code",
        "colab": {}
      },
      "source": [
        "# convert back to numpy\n",
        "img_clean: np.ndarray = kornia.tensor_to_image(tv_denoiser.get_clean_image())\n",
        "\n",
        "# Create the plot\n",
        "fig, axs = plt.subplots(1, 2, figsize=(16, 10))\n",
        "axs = axs.ravel()\n",
        "\n",
        "axs[0].axis('off')\n",
        "axs[0].set_title('Noisy image')\n",
        "axs[0].imshow(img)\n",
        "\n",
        "axs[1].axis('off')\n",
        "axs[1].set_title('Cleaned image')\n",
        "axs[1].imshow(img_clean)\n",
        "\n",
        "plt.show()"
      ],
      "execution_count": 0,
      "outputs": []
    }
  ]
}